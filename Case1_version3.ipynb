{
 "cells": [
  {
   "cell_type": "code",
   "execution_count": 1,
   "metadata": {},
   "outputs": [],
   "source": [
    "import numpy as np\n",
    "import pandas as pd\n",
    "from sklearn import preprocessing\n",
    "from sklearn.impute import SimpleImputer\n",
    "from sklearn.preprocessing import OneHotEncoder\n",
    "from sklearn.feature_selection import RFE\n",
    "from sklearn.svm import SVR\n",
    "from sklearn.linear_model import Ridge\n",
    "from sklearn.model_selection import train_test_split\n",
    "from sklearn.linear_model import RidgeCV,LassoCV\n",
    "from sklearn.neighbors import KNeighborsRegressor\n",
    "from sklearn.preprocessing import Normalizer"
   ]
  },
  {
   "cell_type": "code",
   "execution_count": 2,
   "metadata": {},
   "outputs": [
    {
     "name": "stderr",
     "output_type": "stream",
     "text": [
      "Using TensorFlow backend.\n"
     ]
    }
   ],
   "source": [
    "from fancyimpute import KNN"
   ]
  },
  {
   "cell_type": "code",
   "execution_count": 3,
   "metadata": {},
   "outputs": [
    {
     "data": {
      "text/html": [
       "<div>\n",
       "<style scoped>\n",
       "    .dataframe tbody tr th:only-of-type {\n",
       "        vertical-align: middle;\n",
       "    }\n",
       "\n",
       "    .dataframe tbody tr th {\n",
       "        vertical-align: top;\n",
       "    }\n",
       "\n",
       "    .dataframe thead th {\n",
       "        text-align: right;\n",
       "    }\n",
       "</style>\n",
       "<table border=\"1\" class=\"dataframe\">\n",
       "  <thead>\n",
       "    <tr style=\"text-align: right;\">\n",
       "      <th></th>\n",
       "      <th>Y</th>\n",
       "      <th>X1</th>\n",
       "      <th>X2</th>\n",
       "      <th>X3</th>\n",
       "      <th>X4</th>\n",
       "      <th>X5</th>\n",
       "      <th>X6</th>\n",
       "      <th>X7</th>\n",
       "      <th>X8</th>\n",
       "      <th>X9</th>\n",
       "      <th>...</th>\n",
       "      <th>X91</th>\n",
       "      <th>X92</th>\n",
       "      <th>X93</th>\n",
       "      <th>X94</th>\n",
       "      <th>X95</th>\n",
       "      <th>X96</th>\n",
       "      <th>X97</th>\n",
       "      <th>X98</th>\n",
       "      <th>X99</th>\n",
       "      <th>X100</th>\n",
       "    </tr>\n",
       "  </thead>\n",
       "  <tbody>\n",
       "    <tr>\n",
       "      <th>0</th>\n",
       "      <td>-4.551892</td>\n",
       "      <td>-1.809625</td>\n",
       "      <td>-0.913360</td>\n",
       "      <td>-0.218107</td>\n",
       "      <td>0.687713</td>\n",
       "      <td>-1.357434</td>\n",
       "      <td>3.087521</td>\n",
       "      <td>0.134304</td>\n",
       "      <td>5.501414</td>\n",
       "      <td>0.480548</td>\n",
       "      <td>...</td>\n",
       "      <td>1.935061</td>\n",
       "      <td>-0.364959</td>\n",
       "      <td>0.228810</td>\n",
       "      <td>-0.145521</td>\n",
       "      <td>-1.754263</td>\n",
       "      <td>B</td>\n",
       "      <td>A</td>\n",
       "      <td>C</td>\n",
       "      <td>C</td>\n",
       "      <td>H</td>\n",
       "    </tr>\n",
       "    <tr>\n",
       "      <th>1</th>\n",
       "      <td>1.806876</td>\n",
       "      <td>NaN</td>\n",
       "      <td>-2.067355</td>\n",
       "      <td>-0.259221</td>\n",
       "      <td>1.682711</td>\n",
       "      <td>-0.899337</td>\n",
       "      <td>-0.448752</td>\n",
       "      <td>0.246285</td>\n",
       "      <td>2.007544</td>\n",
       "      <td>1.669644</td>\n",
       "      <td>...</td>\n",
       "      <td>2.129238</td>\n",
       "      <td>2.873889</td>\n",
       "      <td>-0.956736</td>\n",
       "      <td>2.946482</td>\n",
       "      <td>0.348536</td>\n",
       "      <td>B</td>\n",
       "      <td>B</td>\n",
       "      <td>D</td>\n",
       "      <td>B</td>\n",
       "      <td>B</td>\n",
       "    </tr>\n",
       "    <tr>\n",
       "      <th>2</th>\n",
       "      <td>-7.418004</td>\n",
       "      <td>3.145955</td>\n",
       "      <td>-1.434793</td>\n",
       "      <td>-2.355750</td>\n",
       "      <td>2.145708</td>\n",
       "      <td>-2.730022</td>\n",
       "      <td>0.181677</td>\n",
       "      <td>-1.603840</td>\n",
       "      <td>1.481230</td>\n",
       "      <td>0.863563</td>\n",
       "      <td>...</td>\n",
       "      <td>3.011292</td>\n",
       "      <td>0.023706</td>\n",
       "      <td>-0.118926</td>\n",
       "      <td>-1.329891</td>\n",
       "      <td>-0.549678</td>\n",
       "      <td>B</td>\n",
       "      <td>B</td>\n",
       "      <td>B</td>\n",
       "      <td>D</td>\n",
       "      <td>E</td>\n",
       "    </tr>\n",
       "    <tr>\n",
       "      <th>3</th>\n",
       "      <td>-8.776398</td>\n",
       "      <td>-0.966571</td>\n",
       "      <td>2.768401</td>\n",
       "      <td>-1.016546</td>\n",
       "      <td>2.579520</td>\n",
       "      <td>-2.989883</td>\n",
       "      <td>1.299483</td>\n",
       "      <td>0.537700</td>\n",
       "      <td>1.972970</td>\n",
       "      <td>0.214713</td>\n",
       "      <td>...</td>\n",
       "      <td>2.334895</td>\n",
       "      <td>0.131329</td>\n",
       "      <td>-1.506334</td>\n",
       "      <td>-1.198288</td>\n",
       "      <td>-0.061236</td>\n",
       "      <td>B</td>\n",
       "      <td>B</td>\n",
       "      <td>A</td>\n",
       "      <td>B</td>\n",
       "      <td>D</td>\n",
       "    </tr>\n",
       "    <tr>\n",
       "      <th>4</th>\n",
       "      <td>-6.755842</td>\n",
       "      <td>-0.998227</td>\n",
       "      <td>0.657886</td>\n",
       "      <td>-1.104707</td>\n",
       "      <td>1.289966</td>\n",
       "      <td>-3.907128</td>\n",
       "      <td>0.901370</td>\n",
       "      <td>0.497693</td>\n",
       "      <td>1.794773</td>\n",
       "      <td>0.779314</td>\n",
       "      <td>...</td>\n",
       "      <td>3.131590</td>\n",
       "      <td>-1.299633</td>\n",
       "      <td>-0.861064</td>\n",
       "      <td>0.672235</td>\n",
       "      <td>-0.659976</td>\n",
       "      <td>A</td>\n",
       "      <td>C</td>\n",
       "      <td>D</td>\n",
       "      <td>D</td>\n",
       "      <td>D</td>\n",
       "    </tr>\n",
       "  </tbody>\n",
       "</table>\n",
       "<p>5 rows × 101 columns</p>\n",
       "</div>"
      ],
      "text/plain": [
       "          Y        X1        X2        X3        X4        X5        X6  \\\n",
       "0 -4.551892 -1.809625 -0.913360 -0.218107  0.687713 -1.357434  3.087521   \n",
       "1  1.806876       NaN -2.067355 -0.259221  1.682711 -0.899337 -0.448752   \n",
       "2 -7.418004  3.145955 -1.434793 -2.355750  2.145708 -2.730022  0.181677   \n",
       "3 -8.776398 -0.966571  2.768401 -1.016546  2.579520 -2.989883  1.299483   \n",
       "4 -6.755842 -0.998227  0.657886 -1.104707  1.289966 -3.907128  0.901370   \n",
       "\n",
       "         X7        X8        X9  ...       X91       X92       X93       X94  \\\n",
       "0  0.134304  5.501414  0.480548  ...  1.935061 -0.364959  0.228810 -0.145521   \n",
       "1  0.246285  2.007544  1.669644  ...  2.129238  2.873889 -0.956736  2.946482   \n",
       "2 -1.603840  1.481230  0.863563  ...  3.011292  0.023706 -0.118926 -1.329891   \n",
       "3  0.537700  1.972970  0.214713  ...  2.334895  0.131329 -1.506334 -1.198288   \n",
       "4  0.497693  1.794773  0.779314  ...  3.131590 -1.299633 -0.861064  0.672235   \n",
       "\n",
       "        X95  X96  X97  X98  X99  X100  \n",
       "0 -1.754263    B    A    C    C     H  \n",
       "1  0.348536    B    B    D    B     B  \n",
       "2 -0.549678    B    B    B    D     E  \n",
       "3 -0.061236    B    B    A    B     D  \n",
       "4 -0.659976    A    C    D    D     D  \n",
       "\n",
       "[5 rows x 101 columns]"
      ]
     },
     "execution_count": 3,
     "metadata": {},
     "output_type": "execute_result"
    }
   ],
   "source": [
    "data = pd.read_csv(\"dataCase1.csv\")\n",
    "data.head()"
   ]
  },
  {
   "cell_type": "code",
   "execution_count": 4,
   "metadata": {},
   "outputs": [],
   "source": [
    "#convert dataframe to np array\n",
    "dataset = data.values"
   ]
  },
  {
   "cell_type": "code",
   "execution_count": 5,
   "metadata": {},
   "outputs": [
    {
     "name": "stdout",
     "output_type": "stream",
     "text": [
      "Imputing row 1/1100 with 1 missing, elapsed time: 0.578\n",
      "Imputing row 101/1100 with 0 missing, elapsed time: 0.605\n",
      "Imputing row 201/1100 with 1 missing, elapsed time: 0.607\n",
      "Imputing row 301/1100 with 2 missing, elapsed time: 0.609\n",
      "Imputing row 401/1100 with 1 missing, elapsed time: 0.611\n",
      "Imputing row 501/1100 with 1 missing, elapsed time: 0.613\n",
      "Imputing row 601/1100 with 4 missing, elapsed time: 0.614\n",
      "Imputing row 701/1100 with 1 missing, elapsed time: 0.616\n",
      "Imputing row 801/1100 with 1 missing, elapsed time: 0.618\n",
      "Imputing row 901/1100 with 1 missing, elapsed time: 0.620\n",
      "Imputing row 1001/1100 with 0 missing, elapsed time: 0.621\n"
     ]
    }
   ],
   "source": [
    "#filling the numirical missing values with mean\n",
    "\n",
    "# imp = SimpleImputer(missing_values=np.nan, strategy='mean')\n",
    "# fill_x_numbers = imp.fit_transform(dataset[:,1:96])\n",
    "\n",
    "\n",
    "#filling the numirical missing values with KNN\n",
    "\n",
    "fill_x_numbers = KNN(k=8).fit_transform(dataset[:,1:96])\n",
    "\n",
    "\n"
   ]
  },
  {
   "cell_type": "code",
   "execution_count": 6,
   "metadata": {},
   "outputs": [],
   "source": [
    "#filling the categorial with mode\n",
    "imp2 = SimpleImputer(missing_values=np.nan, strategy='most_frequent')\n",
    "fill_x_categorial =  imp2.fit_transform(dataset[:,96:])"
   ]
  },
  {
   "cell_type": "code",
   "execution_count": 7,
   "metadata": {},
   "outputs": [
    {
     "data": {
      "text/plain": [
       "array([[-1.80962522e+00, -9.13360030e-01, -2.18106911e-01, ...,\n",
       "         2.28809829e-01, -1.45521342e-01, -1.75426281e+00],\n",
       "       [ 3.51332834e-01, -2.06735518e+00, -2.59220596e-01, ...,\n",
       "        -9.56735893e-01,  2.94648201e+00,  3.48536270e-01],\n",
       "       [ 3.14595538e+00, -1.43479340e+00, -2.35575046e+00, ...,\n",
       "        -1.18925719e-01, -1.32989134e+00, -5.49677796e-01],\n",
       "       ...,\n",
       "       [ 2.53341661e+00,  2.67357206e+00, -2.69006327e+00, ...,\n",
       "         2.82892960e-01,  2.35787325e-01, -1.13154608e+00],\n",
       "       [-2.15414378e-01, -2.14595750e+00, -5.54640373e-01, ...,\n",
       "        -1.87423200e+00,  9.47279120e-01, -2.20062091e+00],\n",
       "       [ 2.11332738e+00,  3.00334642e-01, -3.22017017e-01, ...,\n",
       "        -6.13649100e-01, -4.73622369e-01, -2.05984552e-03]])"
      ]
     },
     "execution_count": 7,
     "metadata": {},
     "output_type": "execute_result"
    }
   ],
   "source": [
    "fill_x_numbers"
   ]
  },
  {
   "cell_type": "code",
   "execution_count": 8,
   "metadata": {},
   "outputs": [],
   "source": [
    "#concate the two\n",
    "X_filled = np.concatenate((fill_x_numbers, fill_x_categorial), axis=1)"
   ]
  },
  {
   "cell_type": "code",
   "execution_count": 9,
   "metadata": {},
   "outputs": [
    {
     "name": "stdout",
     "output_type": "stream",
     "text": [
      "[[-1.80962521634919 -0.913360029753062 -0.218106910804778 ... 'C' 'C' 'H']\n",
      " [0.35133283440293606 -2.0673551820964198 -0.259220595873348 ... 'D' 'B'\n",
      "  'B']\n",
      " [3.14595538020002 -1.43479340320342 -2.35575045541893 ... 'B' 'D' 'E']\n",
      " ...\n",
      " [2.53341661067358 2.6735720627366297 -2.6900632684599994 ... 'C' 'C' 'G']\n",
      " [-0.215414378225097 -2.14595750481143 -0.554640373174789 ... 'C' 'B' 'E']\n",
      " [2.11332738439507 0.30033464189362896 -0.32201701712570296 ... 'C' 'A'\n",
      "  'F']]\n"
     ]
    }
   ],
   "source": [
    "print(X_filled)"
   ]
  },
  {
   "cell_type": "code",
   "execution_count": 10,
   "metadata": {},
   "outputs": [],
   "source": [
    "#using one out of k coding for categorial values\n",
    "enc = OneHotEncoder(handle_unknown='ignore')"
   ]
  },
  {
   "cell_type": "code",
   "execution_count": 11,
   "metadata": {},
   "outputs": [],
   "source": [
    "encoding_categorials = enc.fit_transform(X_filled[:,95:]).toarray()"
   ]
  },
  {
   "cell_type": "code",
   "execution_count": 12,
   "metadata": {},
   "outputs": [
    {
     "data": {
      "text/plain": [
       "array([[0., 1., 1., ..., 0., 0., 1.],\n",
       "       [0., 1., 0., ..., 0., 0., 0.],\n",
       "       [0., 1., 0., ..., 0., 0., 0.],\n",
       "       ...,\n",
       "       [0., 1., 0., ..., 0., 1., 0.],\n",
       "       [0., 1., 1., ..., 0., 0., 0.],\n",
       "       [1., 0., 0., ..., 1., 0., 0.]])"
      ]
     },
     "execution_count": 12,
     "metadata": {},
     "output_type": "execute_result"
    }
   ],
   "source": [
    "encoding_categorials"
   ]
  },
  {
   "cell_type": "code",
   "execution_count": 13,
   "metadata": {},
   "outputs": [],
   "source": [
    "X_filled = np.concatenate((X_filled[:,1:95], encoding_categorials), axis=1)"
   ]
  },
  {
   "cell_type": "code",
   "execution_count": 14,
   "metadata": {},
   "outputs": [
    {
     "data": {
      "text/plain": [
       "array([[-0.913360029753062, -0.218106910804778, 0.6877134470637329, ...,\n",
       "        0.0, 0.0, 1.0],\n",
       "       [-2.0673551820964198, -0.259220595873348, 1.68271062536683, ...,\n",
       "        0.0, 0.0, 0.0],\n",
       "       [-1.43479340320342, -2.35575045541893, 2.14570810586986, ..., 0.0,\n",
       "        0.0, 0.0],\n",
       "       ...,\n",
       "       [2.6735720627366297, -2.6900632684599994, 2.31023096931002, ...,\n",
       "        0.0, 1.0, 0.0],\n",
       "       [-2.14595750481143, -0.554640373174789, 0.7319332081062471, ...,\n",
       "        0.0, 0.0, 0.0],\n",
       "       [0.30033464189362896, -0.32201701712570296, 0.356156389277952,\n",
       "        ..., 1.0, 0.0, 0.0]], dtype=object)"
      ]
     },
     "execution_count": 14,
     "metadata": {},
     "output_type": "execute_result"
    }
   ],
   "source": [
    "X_filled"
   ]
  },
  {
   "cell_type": "code",
   "execution_count": 15,
   "metadata": {},
   "outputs": [],
   "source": [
    "#observation with label\n",
    "Y = dataset[0:100,0]\n",
    "X = X_filled[0:100,:]\n",
    "\n",
    "#observation without label\n",
    "X_new = X_filled[100:,:]"
   ]
  },
  {
   "cell_type": "code",
   "execution_count": 16,
   "metadata": {},
   "outputs": [
    {
     "data": {
      "text/plain": [
       "100"
      ]
     },
     "execution_count": 16,
     "metadata": {},
     "output_type": "execute_result"
    }
   ],
   "source": [
    "len(Y)"
   ]
  },
  {
   "cell_type": "code",
   "execution_count": 17,
   "metadata": {},
   "outputs": [],
   "source": [
    "#feature selection\n",
    "\n",
    "estimator = SVR(kernel=\"linear\")\n",
    "selector = RFE(estimator)\n",
    "selector = selector.fit(X,Y)"
   ]
  },
  {
   "cell_type": "code",
   "execution_count": 18,
   "metadata": {},
   "outputs": [
    {
     "name": "stdout",
     "output_type": "stream",
     "text": [
      "[[-0.218106910804778 0.6877134470637329 -1.3574335108351299 ... 0.0 0.0\n",
      "  1.0]\n",
      " [-0.259220595873348 1.68271062536683 -0.899336590157309 ... 0.0 0.0 0.0]\n",
      " [-2.35575045541893 2.14570810586986 -2.73002172725291 ... 0.0 1.0 0.0]\n",
      " ...\n",
      " [-0.21867481287381102 2.5030396698436 -1.45336124316846 ... 0.0 0.0 0.0]\n",
      " [1.34547648462266 0.9659790495862209 -0.878476431384007 ... 0.0 1.0 0.0]\n",
      " [0.334669295547417 2.5672019826376604 -0.195528932324772 ... 0.0 0.0 0.0]]\n"
     ]
    }
   ],
   "source": [
    "X_feature = selector.transform(X)\n",
    "print(X_feature)"
   ]
  },
  {
   "cell_type": "code",
   "execution_count": 19,
   "metadata": {},
   "outputs": [
    {
     "data": {
      "text/plain": [
       "(100, 57)"
      ]
     },
     "execution_count": 19,
     "metadata": {},
     "output_type": "execute_result"
    }
   ],
   "source": [
    "X_feature.shape"
   ]
  },
  {
   "cell_type": "code",
   "execution_count": 20,
   "metadata": {},
   "outputs": [],
   "source": [
    "#using cross validation for different models\n",
    "X_train, X_test, y_train, y_test = train_test_split(\n",
    "    X_feature, Y, test_size=0.33, random_state=42)"
   ]
  },
  {
   "cell_type": "code",
   "execution_count": 21,
   "metadata": {},
   "outputs": [
    {
     "data": {
      "text/plain": [
       "0.8308669828764477"
      ]
     },
     "execution_count": 21,
     "metadata": {},
     "output_type": "execute_result"
    }
   ],
   "source": [
    "#ridge regression with cross validation\n",
    "clf = RidgeCV(alphas=[1e-3, 1e-2, 1e-1, 1, 10]).fit(X_train, y_train)\n",
    "clf.score(X_test, y_test)"
   ]
  },
  {
   "cell_type": "code",
   "execution_count": 22,
   "metadata": {},
   "outputs": [
    {
     "name": "stderr",
     "output_type": "stream",
     "text": [
      "c:\\users\\tosodoulis\\appdata\\local\\programs\\python\\python36\\lib\\site-packages\\sklearn\\linear_model\\coordinate_descent.py:492: ConvergenceWarning: Objective did not converge. You might want to increase the number of iterations. Fitting data with very small alpha may cause precision problems.\n",
      "  ConvergenceWarning)\n",
      "c:\\users\\tosodoulis\\appdata\\local\\programs\\python\\python36\\lib\\site-packages\\sklearn\\linear_model\\coordinate_descent.py:492: ConvergenceWarning: Objective did not converge. You might want to increase the number of iterations. Fitting data with very small alpha may cause precision problems.\n",
      "  ConvergenceWarning)\n"
     ]
    },
    {
     "data": {
      "text/plain": [
       "0.7068682966959563"
      ]
     },
     "execution_count": 22,
     "metadata": {},
     "output_type": "execute_result"
    }
   ],
   "source": [
    "#lasso regression with cross validation\n",
    "reg = LassoCV(cv=5, random_state=0).fit(X_train, y_train)\n",
    "reg.score(X_test, y_test)"
   ]
  },
  {
   "cell_type": "code",
   "execution_count": 23,
   "metadata": {},
   "outputs": [
    {
     "data": {
      "text/plain": [
       "0.3270959876553048"
      ]
     },
     "execution_count": 23,
     "metadata": {},
     "output_type": "execute_result"
    }
   ],
   "source": [
    "#Knn regression\n",
    "\n",
    "neigh = KNeighborsRegressor(n_neighbors=int(10))\n",
    "neigh.fit(X_train, y_train)\n",
    "neigh.score(X_test, y_test)"
   ]
  },
  {
   "cell_type": "code",
   "execution_count": 24,
   "metadata": {},
   "outputs": [],
   "source": [
    "cols = selector.get_support(indices=True)"
   ]
  },
  {
   "cell_type": "code",
   "execution_count": 25,
   "metadata": {},
   "outputs": [
    {
     "name": "stdout",
     "output_type": "stream",
     "text": [
      "[  1   2   3   4   5   9  11  12  13  14  20  22  25  26  27  30  31  32\n",
      "  35  37  39  40  41  42  43  44  47  48  55  61  64  66  68  71  72  73\n",
      "  74  76  80  82  83  85  88  91  93  94  95  96  98 103 105 106 107 108\n",
      " 110 111 114] 57\n"
     ]
    }
   ],
   "source": [
    "print(cols,len(cols))"
   ]
  },
  {
   "cell_type": "code",
   "execution_count": 26,
   "metadata": {},
   "outputs": [],
   "source": [
    "X_new = X_new[:,cols]"
   ]
  },
  {
   "cell_type": "code",
   "execution_count": 27,
   "metadata": {},
   "outputs": [
    {
     "data": {
      "text/plain": [
       "(1000, 57)"
      ]
     },
     "execution_count": 27,
     "metadata": {},
     "output_type": "execute_result"
    }
   ],
   "source": [
    "X_new.shape"
   ]
  },
  {
   "cell_type": "code",
   "execution_count": 28,
   "metadata": {},
   "outputs": [],
   "source": [
    "y_new = clf.predict(X_new)"
   ]
  },
  {
   "cell_type": "code",
   "execution_count": 29,
   "metadata": {},
   "outputs": [
    {
     "name": "stdout",
     "output_type": "stream",
     "text": [
      "1000\n"
     ]
    }
   ],
   "source": [
    "print(len(y_new))"
   ]
  },
  {
   "cell_type": "code",
   "execution_count": null,
   "metadata": {},
   "outputs": [],
   "source": []
  }
 ],
 "metadata": {
  "kernelspec": {
   "display_name": "Python 3",
   "language": "python",
   "name": "python3"
  },
  "language_info": {
   "codemirror_mode": {
    "name": "ipython",
    "version": 3
   },
   "file_extension": ".py",
   "mimetype": "text/x-python",
   "name": "python",
   "nbconvert_exporter": "python",
   "pygments_lexer": "ipython3",
   "version": "3.6.4"
  }
 },
 "nbformat": 4,
 "nbformat_minor": 4
}
